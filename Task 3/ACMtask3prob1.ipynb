{
 "cells": [
  {
   "cell_type": "code",
   "execution_count": 13,
   "id": "9dc4542a-a841-4efc-a9a2-02f7a280a299",
   "metadata": {},
   "outputs": [
    {
     "name": "stdin",
     "output_type": "stream",
     "text": [
      "Enter number of elements :  8\n",
      "Enter an element: 1\n",
      "Enter an element: 2\n",
      "Enter an element: 3\n",
      "Enter an element: 4\n",
      "Enter an element: 5\n",
      "Enter an element: 6\n",
      "Enter an element: 7\n",
      "Enter an element: 8\n"
     ]
    },
    {
     "name": "stdout",
     "output_type": "stream",
     "text": [
      "The sum of odd elements in the list is 16.\n"
     ]
    }
   ],
   "source": [
    "lst = []\n",
    "n = int(input(\"Enter number of elements : \"))\n",
    "for i in range(n):\n",
    "    ele = int(input(\"Enter an element:\"))\n",
    "    if ele % 2==1:\n",
    "        lst.append(ele)\n",
    "x=sum(lst)\n",
    "print(\"The sum of odd elements in the list is {}.\".format(x))"
   ]
  },
  {
   "cell_type": "code",
   "execution_count": null,
   "id": "95440ded-7ab3-40fb-94d0-9c5348850c24",
   "metadata": {},
   "outputs": [],
   "source": []
  }
 ],
 "metadata": {
  "kernelspec": {
   "display_name": "Python 3 (ipykernel)",
   "language": "python",
   "name": "python3"
  },
  "language_info": {
   "codemirror_mode": {
    "name": "ipython",
    "version": 3
   },
   "file_extension": ".py",
   "mimetype": "text/x-python",
   "name": "python",
   "nbconvert_exporter": "python",
   "pygments_lexer": "ipython3",
   "version": "3.11.4"
  }
 },
 "nbformat": 4,
 "nbformat_minor": 5
}
